{
 "cells": [
  {
   "cell_type": "code",
   "execution_count": 8,
   "metadata": {},
   "outputs": [],
   "source": [
    "from selenium import webdriver"
   ]
  },
  {
   "cell_type": "code",
   "execution_count": 9,
   "metadata": {},
   "outputs": [],
   "source": [
    "from selenium.webdriver.common.keys import Keys"
   ]
  },
  {
   "cell_type": "code",
   "execution_count": 10,
   "metadata": {},
   "outputs": [],
   "source": [
    "# Thrown when trying to select an unselectable element.\n",
    " #For example, selecting a 'script' element.\n",
    "from selenium.common.exceptions import ElementNotSelectableException"
   ]
  },
  {
   "cell_type": "code",
   "execution_count": 11,
   "metadata": {},
   "outputs": [],
   "source": [
    "# Thrown when element could not be found.\n",
    "# If you encounter this exception, you may want to check the following:\n",
    "# Check your selector used in your find_by...\n",
    "# Element may not yet be on the screen at the time of the find operation,\n",
    "# (webpage is still loading) see selenium.webdriver.support.wait.WebDriverWait() \n",
    "# for how to write a wait wrapper to wait for an element to appear.\n",
    "from selenium.common.exceptions import NoSuchElementException"
   ]
  },
  {
   "cell_type": "code",
   "execution_count": 12,
   "metadata": {},
   "outputs": [],
   "source": [
    "# The Element Click command could not be completed because the element receiving the events\n",
    "# is obscuring the element that was requested clicked.\n",
    "from selenium.common.exceptions import ElementClickInterceptedException"
   ]
  },
  {
   "cell_type": "code",
   "execution_count": 13,
   "metadata": {},
   "outputs": [],
   "source": [
    "# Thrown when an element is present in the DOM but interactions\n",
    "# with that element will hit another element do to paint order\n",
    "from selenium.common.exceptions import ElementNotInteractableException"
   ]
  },
  {
   "cell_type": "code",
   "execution_count": 14,
   "metadata": {},
   "outputs": [],
   "source": [
    "# Thrown when an element is present on the DOM, but it is not visible, \n",
    "# and so is not able to be interacted with.\n",
    "# Most commonly encountered when trying to click or read text of an element \n",
    "# that is hidden from view.\n",
    "from selenium.common.exceptions import ElementNotVisibleException"
   ]
  },
  {
   "cell_type": "code",
   "execution_count": 15,
   "metadata": {},
   "outputs": [],
   "source": [
    "# Thrown when the attribute of element could not be found.\n",
    "# You may want to check if the attribute exists in the particular browser \n",
    "# you are testing against. Some browsers may have different property names \n",
    "# for the same property. (IE8's .innerText vs. Firefox .textContent)\n",
    "from selenium.common.exceptions import  NoSuchAttributeException"
   ]
  },
  {
   "cell_type": "code",
   "execution_count": 16,
   "metadata": {},
   "outputs": [],
   "source": [
    "# Thrown when a command does not complete in enough time.\n",
    "from selenium.common.exceptions import TimeoutException"
   ]
  },
  {
   "cell_type": "code",
   "execution_count": 17,
   "metadata": {},
   "outputs": [],
   "source": [
    "# Thrown when switching to no presented alert.\n",
    "# This can be caused by calling an operation on the Alert() class \n",
    "# when an alert is not yet on the screen.\n",
    "from selenium.common.exceptions import NoAlertPresentException"
   ]
  },
  {
   "cell_type": "code",
   "execution_count": 18,
   "metadata": {},
   "outputs": [],
   "source": [
    "# The Element Click command could not be completed because \n",
    "# the element receiving the events\n",
    "# is obscuring the element that was requested clicked.\n",
    "from selenium.common.exceptions import ElementClickInterceptedException"
   ]
  },
  {
   "cell_type": "code",
   "execution_count": 19,
   "metadata": {},
   "outputs": [],
   "source": [
    "# Thrown when an unexpected alert is appeared.\n",
    "# Usually raised when when an expected modal is blocking\n",
    "# webdriver form executing any more commands.\n",
    "from selenium.common.exceptions import UnexpectedAlertPresentException"
   ]
  },
  {
   "cell_type": "code",
   "execution_count": 20,
   "metadata": {},
   "outputs": [],
   "source": [
    "import os, sys, time\n",
    "from time import sleep\n",
    "from pathlib import Path\n",
    "import pyautogui\n",
    "import fnmatch, glob, shutil"
   ]
  },
  {
   "cell_type": "code",
   "execution_count": 21,
   "metadata": {},
   "outputs": [],
   "source": [
    "import textwrap"
   ]
  },
  {
   "cell_type": "code",
   "execution_count": 22,
   "metadata": {},
   "outputs": [
    {
     "name": "stdout",
     "output_type": "stream",
     "text": [
      "BIG OL' POOP\n"
     ]
    }
   ],
   "source": [
    "print(textwrap.fill(\"BIG OL' POOP\", width=5066))"
   ]
  },
  {
   "cell_type": "code",
   "execution_count": 23,
   "metadata": {},
   "outputs": [],
   "source": [
    "import pandas as pd\n",
    "import numpy as np\n",
    "from pandas import Series, DataFrame"
   ]
  },
  {
   "cell_type": "code",
   "execution_count": 24,
   "metadata": {},
   "outputs": [],
   "source": [
    "import logging"
   ]
  },
  {
   "cell_type": "code",
   "execution_count": 25,
   "metadata": {},
   "outputs": [
    {
     "name": "stderr",
     "output_type": "stream",
     "text": [
      "2019-07-17-004827 : \n",
      "\t\t\t\t\t [MESG]: [SETUP-LOGGER] FIN... \n",
      "\t\t\t\t\t [LINE] : 10\n"
     ]
    }
   ],
   "source": [
    "try: #{\n",
    "    logging.basicConfig(level=logging.INFO,\n",
    "                        format='%(asctime)s : \\n\\t\\t\\t\\t\\t [MESG]: %(message)s \\n\\t\\t\\t\\t\\t [LINE] : %(lineno)s',\n",
    "                        datefmt='%Y-%m-%d-%H%M%S',\n",
    "                        filemode='a')\n",
    "#}\n",
    "except: #{\n",
    "    errorMessage = str(sys.exc_info()[0]) + \"\\n\\t\\t\"\n",
    "    errorMessage = errorMessage + str(sys.exc_info()[1]) + \"\\n\\t\\t\"\n",
    "    errorMessage = errorMessage + str(sys.exc_info()[2]) + \"\\n\"\n",
    "    exc_type, exc_obj, exc_tb = sys.exc_info()\n",
    "    fname = os.path.split(exc_tb.tb_frame.f_code.co_filename)[1]\n",
    "    typeE = str(\"TYPE : \" + str(exc_type))\n",
    "    fileE = str(\"FILE : \" + str(fname))\n",
    "    lineE = str(\"LINE : \" + str(exc_tb.tb_lineno))\n",
    "    messageE = str(\"MESG : \" + \"\\n\" + str(errorMessage) + \"\\n\")\n",
    "    print(\"\\n\" + typeE +\n",
    "          \"\\n\" + fileE +\n",
    "          \"\\n\" + lineE +\n",
    "          \"\\n\" + messageE)\n",
    "#}\n",
    "else: #{\n",
    "    print(\"[SETUP-LOGGER] FIN...\")\n",
    "#}"
   ]
  },
  {
   "cell_type": "code",
   "execution_count": 26,
   "metadata": {},
   "outputs": [],
   "source": [
    "in_file = \"ph_list.txt\""
   ]
  },
  {
   "cell_type": "code",
   "execution_count": 27,
   "metadata": {},
   "outputs": [],
   "source": [
    "site_list = pd.read_csv(in_file, header=None, names=['Links'])"
   ]
  },
  {
   "cell_type": "code",
   "execution_count": 28,
   "metadata": {},
   "outputs": [
    {
     "data": {
      "text/html": [
       "<div>\n",
       "<style scoped>\n",
       "    .dataframe tbody tr th:only-of-type {\n",
       "        vertical-align: middle;\n",
       "    }\n",
       "\n",
       "    .dataframe tbody tr th {\n",
       "        vertical-align: top;\n",
       "    }\n",
       "\n",
       "    .dataframe thead th {\n",
       "        text-align: right;\n",
       "    }\n",
       "</style>\n",
       "<table border=\"1\" class=\"dataframe\">\n",
       "  <thead>\n",
       "    <tr style=\"text-align: right;\">\n",
       "      <th></th>\n",
       "      <th>Links</th>\n",
       "    </tr>\n",
       "  </thead>\n",
       "  <tbody>\n",
       "    <tr>\n",
       "      <th>0</th>\n",
       "      <td>https://www.pornhub.com/view_video.php?viewkey...</td>\n",
       "    </tr>\n",
       "    <tr>\n",
       "      <th>1</th>\n",
       "      <td>https://www.pornhub.com/view_video.php?viewkey...</td>\n",
       "    </tr>\n",
       "    <tr>\n",
       "      <th>2</th>\n",
       "      <td>https://www.pornhub.com/view_video.php?viewkey...</td>\n",
       "    </tr>\n",
       "    <tr>\n",
       "      <th>3</th>\n",
       "      <td>https://www.pornhub.com/view_video.php?viewkey...</td>\n",
       "    </tr>\n",
       "    <tr>\n",
       "      <th>4</th>\n",
       "      <td>https://www.pornhub.com/view_video.php?viewkey...</td>\n",
       "    </tr>\n",
       "    <tr>\n",
       "      <th>5</th>\n",
       "      <td>https://www.pornhub.com/view_video.php?viewkey...</td>\n",
       "    </tr>\n",
       "    <tr>\n",
       "      <th>6</th>\n",
       "      <td>https://www.pornhub.com/view_video.php?viewkey...</td>\n",
       "    </tr>\n",
       "    <tr>\n",
       "      <th>7</th>\n",
       "      <td>https://www.pornhub.com/view_video.php?viewkey...</td>\n",
       "    </tr>\n",
       "    <tr>\n",
       "      <th>8</th>\n",
       "      <td>https://www.pornhub.com/view_video.php?viewkey...</td>\n",
       "    </tr>\n",
       "    <tr>\n",
       "      <th>9</th>\n",
       "      <td>https://www.pornhub.com/view_video.php?viewkey...</td>\n",
       "    </tr>\n",
       "    <tr>\n",
       "      <th>10</th>\n",
       "      <td>https://www.pornhub.com/view_video.php?viewkey...</td>\n",
       "    </tr>\n",
       "    <tr>\n",
       "      <th>11</th>\n",
       "      <td>https://www.pornhub.com/view_video.php?viewkey...</td>\n",
       "    </tr>\n",
       "  </tbody>\n",
       "</table>\n",
       "</div>"
      ],
      "text/plain": [
       "                                                Links\n",
       "0   https://www.pornhub.com/view_video.php?viewkey...\n",
       "1   https://www.pornhub.com/view_video.php?viewkey...\n",
       "2   https://www.pornhub.com/view_video.php?viewkey...\n",
       "3   https://www.pornhub.com/view_video.php?viewkey...\n",
       "4   https://www.pornhub.com/view_video.php?viewkey...\n",
       "5   https://www.pornhub.com/view_video.php?viewkey...\n",
       "6   https://www.pornhub.com/view_video.php?viewkey...\n",
       "7   https://www.pornhub.com/view_video.php?viewkey...\n",
       "8   https://www.pornhub.com/view_video.php?viewkey...\n",
       "9   https://www.pornhub.com/view_video.php?viewkey...\n",
       "10  https://www.pornhub.com/view_video.php?viewkey...\n",
       "11  https://www.pornhub.com/view_video.php?viewkey..."
      ]
     },
     "execution_count": 28,
     "metadata": {},
     "output_type": "execute_result"
    }
   ],
   "source": [
    "site_list"
   ]
  },
  {
   "cell_type": "code",
   "execution_count": null,
   "metadata": {},
   "outputs": [],
   "source": []
  },
  {
   "cell_type": "code",
   "execution_count": 34,
   "metadata": {},
   "outputs": [],
   "source": [
    "def main(): #{\n",
    "    # TRY THE FOLOWING\n",
    "    try: #{\n",
    "        driver = webdriver.Chrome()\n",
    "        driver.get(\"https://www.pornhub.com\")\n",
    "        print(\"NAVIGATED TO SITE...\")\n",
    "        sleep(1)\n",
    "        \n",
    "        \n",
    "        for row in site_list.itertuples(index=False, name='Links'): #{\n",
    "            print(row)\n",
    "        #}\n",
    "        \n",
    "        driver.find_element_by_link_text(\"Signin\")\n",
    "    #}\n",
    "    except: #{\n",
    "        logging.critical(\"ERROR\")\n",
    "    #}\n",
    "    else: #{\n",
    "        logging.info(\"FIN...\")\n",
    "    #}\n",
    "#}"
   ]
  },
  {
   "cell_type": "code",
   "execution_count": 35,
   "metadata": {},
   "outputs": [
    {
     "name": "stderr",
     "output_type": "stream",
     "text": [
      "2019-07-17-013339 : \n",
      "\t\t\t\t\t [MESG]: ERROR \n",
      "\t\t\t\t\t [LINE] : 17\n"
     ]
    }
   ],
   "source": [
    "if __name__ == \"__main__\": #{\n",
    "    main()\n",
    "#}"
   ]
  },
  {
   "cell_type": "code",
   "execution_count": null,
   "metadata": {},
   "outputs": [],
   "source": []
  }
 ],
 "metadata": {
  "kernelspec": {
   "display_name": "Python 3",
   "language": "python",
   "name": "python3"
  },
  "language_info": {
   "codemirror_mode": {
    "name": "ipython",
    "version": 3
   },
   "file_extension": ".py",
   "mimetype": "text/x-python",
   "name": "python",
   "nbconvert_exporter": "python",
   "pygments_lexer": "ipython3",
   "version": "3.7.3"
  }
 },
 "nbformat": 4,
 "nbformat_minor": 2
}
