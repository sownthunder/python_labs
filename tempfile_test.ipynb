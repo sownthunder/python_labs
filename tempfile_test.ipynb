{
 "cells": [
  {
   "cell_type": "code",
   "execution_count": 1,
   "metadata": {},
   "outputs": [],
   "source": [
    "import os, sys, time\n",
    "from time import sleep\n",
    "from pathlib import Path\n",
    "import fnmatch, glob, shutil"
   ]
  },
  {
   "cell_type": "code",
   "execution_count": 2,
   "metadata": {},
   "outputs": [],
   "source": [
    "import pandas as pd\n",
    "import numpy as np\n",
    "from pandas import Series, DataFrame"
   ]
  },
  {
   "cell_type": "code",
   "execution_count": 3,
   "metadata": {},
   "outputs": [],
   "source": [
    "import tempfile"
   ]
  },
  {
   "cell_type": "code",
   "execution_count": null,
   "metadata": {},
   "outputs": [],
   "source": [
    "# tempfile_TemporaryDirectory.py\n",
    "#import pathlib\n",
    "#import tempfile"
   ]
  },
  {
   "cell_type": "code",
   "execution_count": 5,
   "metadata": {},
   "outputs": [
    {
     "name": "stdout",
     "output_type": "stream",
     "text": [
      "/tmp/tmps7ybge2p\n",
      "Directory exists after? False\n",
      "Contents after: []\n"
     ]
    }
   ],
   "source": [
    "with tempfile.TemporaryDirectory() as directory_name:\n",
    "    the_dir = Path(directory_name)\n",
    "    print(the_dir)\n",
    "    a_file = the_dir / 'a_file.txt'\n",
    "    a_file.write_text('This file is deleted.')\n",
    "\n",
    "print('Directory exists after?', the_dir.exists())\n",
    "print('Contents after:', list(the_dir.glob('*')))"
   ]
  },
  {
   "cell_type": "code",
   "execution_count": null,
   "metadata": {},
   "outputs": [],
   "source": [
    "def watermark_pdfs(the_directory): #{\n",
    "    # TRY THE FOLLOWING:\n",
    "    try: #{\n",
    "        # CREATE TEMP DIR TO WORK IN\n",
    "        with tempfile.TemporaryDirectory() as dir_name: #{\n",
    "            the_dir = Path(dir_name)\n",
    "            print(\"TEMP DIR >>> \" + str(the_dir))\n",
    "            \n",
    "        #}\n",
    "        print('Directory exists after?', the_dir.exists())\n",
    "        print('Contents after:', list(the_dir.glob('*')))\n",
    "    #}\n",
    "    except: #{\n",
    "        \n",
    "    #}\n",
    "    else: #{\n",
    "        print(\"FIN...\")\n",
    "    #}\n",
    "#}"
   ]
  }
 ],
 "metadata": {
  "kernelspec": {
   "display_name": "Python 3",
   "language": "python",
   "name": "python3"
  },
  "language_info": {
   "codemirror_mode": {
    "name": "ipython",
    "version": 3
   },
   "file_extension": ".py",
   "mimetype": "text/x-python",
   "name": "python",
   "nbconvert_exporter": "python",
   "pygments_lexer": "ipython3",
   "version": "3.7.3"
  }
 },
 "nbformat": 4,
 "nbformat_minor": 2
}
