{
 "cells": [
  {
   "cell_type": "code",
   "execution_count": 1,
   "metadata": {},
   "outputs": [],
   "source": [
    "import os, sys, time\n",
    "from time import sleep"
   ]
  },
  {
   "cell_type": "code",
   "execution_count": 2,
   "metadata": {},
   "outputs": [],
   "source": [
    "import pandas as pd\n",
    "import numpy as np\n",
    "from pandas import Series, DataFrame"
   ]
  },
  {
   "cell_type": "code",
   "execution_count": null,
   "metadata": {},
   "outputs": [],
   "source": [
    "# SETUP LOGGER\n",
    "try: #{\n",
    "    logging.basicConfig(level=INFO,\n",
    "                       format='%(asctime)s ')\n",
    "#}"
   ]
  },
  {
   "cell_type": "markdown",
   "metadata": {},
   "source": [
    "Logging to multiple destinations\n",
    "Let’s say you want to log to console and file with different message formats and in differing circumstances. Say you want to log messages with levels of DEBUG and higher to file, and those messages at level INFO and higher to the console. Let’s also assume that the file should contain timestamps, but the console messages should not. Here’s how you can achieve this:"
   ]
  },
  {
   "cell_type": "code",
   "execution_count": null,
   "metadata": {},
   "outputs": [],
   "source": [
    "import logging\n",
    "\n",
    "# set up logging to file - see previous section for more details\n",
    "logging.basicConfig(level=logging.DEBUG,\n",
    "                    format='%(asctime)s %(name)-12s %(levelname)-8s %(message)s',\n",
    "                    datefmt='%m-%d %H:%M',\n",
    "                    filename='/temp/myapp.log',\n",
    "                    filemode='w')\n",
    "# define a Handler which writes INFO messages or higher to the sys.stderr\n",
    "console = logging.StreamHandler()\n",
    "console.setLevel(logging.INFO)\n",
    "# set a format which is simpler for console use\n",
    "formatter = logging.Formatter('%(name)-12s: %(levelname)-8s %(message)s')\n",
    "# tell the handler to use this format\n",
    "console.setFormatter(formatter)\n",
    "# add the handler to the root logger\n",
    "logging.getLogger('').addHandler(console)\n",
    "\n",
    "# Now, we can log to the root logger, or any other logger. First the root...\n",
    "logging.info('Jackdaws love my big sphinx of quartz.')\n",
    "\n",
    "# Now, define a couple of other loggers which might represent areas in your\n",
    "# application:\n",
    "\n",
    "logger1 = logging.getLogger('myapp.area1')\n",
    "logger2 = logging.getLogger('myapp.area2')\n",
    "\n",
    "logger1.debug('Quick zephyrs blow, vexing daft Jim.')\n",
    "logger1.info('How quickly daft jumping zebras vex.')\n",
    "logger2.warning('Jail zesty vixen who grabbed pay from quack.')\n",
    "logger2.error('The five boxing wizards jump quickly.')"
   ]
  },
  {
   "cell_type": "markdown",
   "metadata": {},
   "source": [
    "When you run this, on the console you will see"
   ]
  },
  {
   "cell_type": "raw",
   "metadata": {},
   "source": [
    "root        : INFO     Jackdaws love my big sphinx of quartz.\n",
    "myapp.area1 : INFO     How quickly daft jumping zebras vex.\n",
    "myapp.area2 : WARNING  Jail zesty vixen who grabbed pay from quack.\n",
    "myapp.area2 : ERROR    The five boxing wizards jump quickly.\n",
    "and in the file you will see something like\n",
    "\n",
    "10-22 22:19 root         INFO     Jackdaws love my big sphinx of quartz.\n",
    "10-22 22:19 myapp.area1  DEBUG    Quick zephyrs blow, vexing daft Jim.\n",
    "10-22 22:19 myapp.area1  INFO     How quickly daft jumping zebras vex.\n",
    "10-22 22:19 myapp.area2  WARNING  Jail zesty vixen who grabbed pay from quack.\n",
    "10-22 22:19 myapp.area2  ERROR    The five boxing wizards jump quickly."
   ]
  },
  {
   "cell_type": "markdown",
   "metadata": {},
   "source": [
    "As you can see, the DEBUG message only shows up in the file. The other messages are sent to both destinations.\n",
    "\n",
    "This example uses console and file handlers, but you can use any number and combination of handlers you choose."
   ]
  },
  {
   "cell_type": "code",
   "execution_count": null,
   "metadata": {},
   "outputs": [],
   "source": []
  }
 ],
 "metadata": {
  "kernelspec": {
   "display_name": "Python 3",
   "language": "python",
   "name": "python3"
  },
  "language_info": {
   "codemirror_mode": {
    "name": "ipython",
    "version": 3
   },
   "file_extension": ".py",
   "mimetype": "text/x-python",
   "name": "python",
   "nbconvert_exporter": "python",
   "pygments_lexer": "ipython3",
   "version": "3.7.3"
  }
 },
 "nbformat": 4,
 "nbformat_minor": 2
}
