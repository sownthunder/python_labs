{
 "cells": [
  {
   "cell_type": "code",
   "execution_count": 1,
   "metadata": {},
   "outputs": [],
   "source": [
    "import os, sys, time\n",
    "from time import sleep\n",
    "\n",
    "import pandas as pd\n",
    "import numpy as np\n",
    "from pandas import Series, DataFrame\n",
    "\n",
    "from selenium import webdriver\n",
    "from selenium.webdriver.common.keys import Keys\n",
    "\n",
    "import pyautogui\n",
    "import logging"
   ]
  },
  {
   "cell_type": "code",
   "execution_count": 2,
   "metadata": {},
   "outputs": [
    {
     "name": "stdout",
     "output_type": "stream",
     "text": [
      "FIN...\n"
     ]
    }
   ],
   "source": [
    "try: #{\n",
    "    logging.basicConfig(level=logging.INFO,\n",
    "                       filename='twitter.log',\n",
    "                       format=\"%(asctime)s - %(message)s\",\n",
    "                       filemode='a')\n",
    "#}\n",
    "except: #{\n",
    "    print(\"FAIL!\")\n",
    "#}\n",
    "else: #{\n",
    "    \n",
    "    print(\"FIN...\")\n",
    "#}"
   ]
  },
  {
   "cell_type": "code",
   "execution_count": 4,
   "metadata": {},
   "outputs": [
    {
     "name": "stdout",
     "output_type": "stream",
     "text": [
      "loaded TWITTER\n",
      "entered username\n",
      "entered pwd\n",
      "logged in\n"
     ]
    },
    {
     "ename": "SystemExit",
     "evalue": "69",
     "output_type": "error",
     "traceback": [
      "An exception has occurred, use %tb to see the full traceback.\n",
      "\u001b[0;31mSystemExit\u001b[0m\u001b[0;31m:\u001b[0m 69\n"
     ]
    },
    {
     "name": "stderr",
     "output_type": "stream",
     "text": [
      "/home/dbates/miniconda3/lib/python3.7/site-packages/IPython/core/interactiveshell.py:3304: UserWarning: To exit: use 'exit', 'quit', or Ctrl-D.\n",
      "  warn(\"To exit: use 'exit', 'quit', or Ctrl-D.\", stacklevel=1)\n"
     ]
    }
   ],
   "source": [
    "driver = webdriver.Opera()\n",
    "driver.get(\"https:///www.twitter.com/\")\n",
    "print(\"loaded TWITTER\")\n",
    "sleep(1)\n",
    "\n",
    "login_field = driver.find_element_by_xpath(\"/html[1]/body[1]/div[1]/div[1]/div[1]/div[1]/div[1]/form[1]/div[1]/input[1]\")\n",
    "login_field.send_keys(\"BabyPoopSoup\")\n",
    "print(\"entered username\")\n",
    "sleep(1)\n",
    "\n",
    "pwd_field = driver.find_element_by_xpath(\"/html[1]/body[1]/div[1]/div[1]/div[1]/div[1]/div[1]/form[1]/div[2]/input[1]\")\n",
    "pwd_field.send_keys(\"@hisB00ty\")\n",
    "print(\"entered pwd\")\n",
    "sleep(1)\n",
    "\n",
    "login_btn = driver.find_element_by_xpath(\"/html[1]/body[1]/div[1]/div[1]/div[1]/div[1]/div[1]/form[1]/input[1]\")\n",
    "login_btn.click()\n",
    "print(\"logged in\")\n",
    "sleep(1)\n",
    "\n",
    "driver.maximize_window()\n",
    "sleep(1)\n",
    "\n",
    "time_now = pd.Timestamp.now()\n",
    "# SET STR ONLY AS DATE\n",
    "now_str = str(time_now)\n",
    "#now_str = now_str[11:19]\n",
    "image_name = \"test-\" + now_str + \".png\"\n",
    "pyautogui.screenshot(image_name)\n",
    "sleep(1)\n",
    "\n",
    "driver.quit()\n",
    "sleep(1)\n",
    "\n",
    "sys.quit(69)"
   ]
  },
  {
   "cell_type": "code",
   "execution_count": null,
   "metadata": {},
   "outputs": [],
   "source": []
  }
 ],
 "metadata": {
  "kernelspec": {
   "display_name": "Python 3",
   "language": "python",
   "name": "python3"
  },
  "language_info": {
   "codemirror_mode": {
    "name": "ipython",
    "version": 3
   },
   "file_extension": ".py",
   "mimetype": "text/x-python",
   "name": "python",
   "nbconvert_exporter": "python",
   "pygments_lexer": "ipython3",
   "version": "3.7.3"
  }
 },
 "nbformat": 4,
 "nbformat_minor": 2
}
