{
 "cells": [
  {
   "cell_type": "code",
   "execution_count": 1,
   "metadata": {},
   "outputs": [
    {
     "name": "stdout",
     "output_type": "stream",
     "text": [
      "dict_keys(['title', 'title_detail', 'summary', 'summary_detail', 'links', 'link', 'id', 'guidislink', 'published', 'published_parsed'])\n"
     ]
    }
   ],
   "source": [
    "import feedparser\n",
    "NewsFeed = feedparser.parse(\"https://timesofindia.indiatimes.com/rssfeedstopstories.cms\")\n",
    "entry = NewsFeed.entries[1]\n",
    "\n",
    "print(entry.keys())"
   ]
  },
  {
   "cell_type": "code",
   "execution_count": 1,
   "metadata": {},
   "outputs": [
    {
     "name": "stdout",
     "output_type": "stream",
     "text": [
      "Thu, 25 Jul 2019 14:39:32 GMT\n",
      "******\n",
      "Parliament approved the amendment to the RTI Act, with Rajya Sabha on Thursday passing it after negating an opposition sponsored motion to send it to a House committee for greater scrutiny. The motion was negated by 117 members voting against the motion and 75 members voting in favour.\n",
      "------News Link--------\n",
      "https://timesofindia.indiatimes.com/india/parliament-approves-amendment-to-rti-act/articleshow/70382708.cms\n"
     ]
    }
   ],
   "source": [
    "import feedparser\n",
    "\n",
    "NewsFeed = feedparser.parse(\"https://timesofindia.indiatimes.com/rssfeedstopstories.cms\")\n",
    "\n",
    "entry = NewsFeed.entries[1]\n",
    "\n",
    "print(entry.published)\n",
    "print(\"******\")\n",
    "print(entry.summary)\n",
    "print(\"------News Link--------\")\n",
    "print(entry.link)"
   ]
  },
  {
   "cell_type": "code",
   "execution_count": null,
   "metadata": {},
   "outputs": [],
   "source": []
  }
 ],
 "metadata": {
  "kernelspec": {
   "display_name": "Python 3",
   "language": "python",
   "name": "python3"
  },
  "language_info": {
   "codemirror_mode": {
    "name": "ipython",
    "version": 3
   },
   "file_extension": ".py",
   "mimetype": "text/x-python",
   "name": "python",
   "nbconvert_exporter": "python",
   "pygments_lexer": "ipython3",
   "version": "3.7.3"
  }
 },
 "nbformat": 4,
 "nbformat_minor": 4
}
