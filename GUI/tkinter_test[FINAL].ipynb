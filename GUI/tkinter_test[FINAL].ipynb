{
 "cells": [
  {
   "cell_type": "code",
   "execution_count": 2,
   "metadata": {},
   "outputs": [],
   "source": [
    "import os, sys, time\n",
    "from pathlib import Path\n",
    "import tkinter as tk\n",
    "from tkinter import messagebox\n",
    "from tkinter import filedialog\n",
    "from tkinter import ttk"
   ]
  },
  {
   "cell_type": "code",
   "execution_count": 3,
   "metadata": {},
   "outputs": [],
   "source": [
    "# FUNCTION TESTING\n",
    "def test(): #{\n",
    "    print(\"turd sandiwch\")\n",
    "#}"
   ]
  },
  {
   "cell_type": "code",
   "execution_count": 33,
   "metadata": {},
   "outputs": [],
   "source": [
    "def main(): \n",
    "    # TRY THE FOLLOWING:\n",
    "    try: #{\n",
    "        # MAIN APP PROPERTIES\n",
    "        root = tk.Tk()\n",
    "        root.title(\"Boilerplate\")\n",
    "        root.geometry('500x500+1280+200')\n",
    "        root.minsize(width=250, height=250)\n",
    "        root.maxsize(width=750, height=750)\n",
    "        \n",
    "        tk.messagebox.showwarning(title='FAG!')\n",
    "        # TOP FRAME?\n",
    "        topframe = tk.Frame(master=root)\n",
    "        topframe.pack(expand=True, fill=tk.BOTH, side=tk.TOP)\n",
    "\n",
    "        # ENTRY FIELD\n",
    "        e1 = tk.Entry(master=root, font=(\"Sourcecode Pro\", 16), )\n",
    "        e1.place(x=50, y=50, width=400, height=20)\n",
    "        \n",
    "        # BROWSE BUTTON\n",
    "        \n",
    "        # SUBMIT BUTTON\n",
    "        \n",
    "        # CANCEL BUTTON\n",
    "        \n",
    "        # BOTTOM FRAME\n",
    "        bottomframe = tk.Frame(master=topframe)\n",
    "        bottomframe.pack(expand=True, fill=tk.BOTH, side=tk.BOTTOM)\n",
    "        \n",
    "        #CHECK-BOX-1\n",
    "        cb1 = tk.Checkbutton(master=root, text=\"fuck yo couhc\", command=test)\n",
    "        \n",
    "        cb1.place(x=250, y=350, width=50, height=50)\n",
    "        \n",
    "        # CHECK-BOX-2\n",
    "        \n",
    "        \n",
    "        root.config()\n",
    "        root.mainloop()\n",
    "    #}\n",
    "    except: #{\n",
    "        errorMessage = str(sys.exc_info()[0]) + \"\\n\\t\\t\"\n",
    "        errorMessage = errorMessage + str(sys.exc_info()[1]) + \"\\n\\t\\t\"\n",
    "        errorMessage = errorMessage + str(sys.exc_info()[2]) + \"\\n\"\n",
    "        exc_type, exc_obj, exc_tb = sys.exc_info()\n",
    "        fname = os.path.split(exc_tb.tb_frame.f_code.co_filename)[1]\n",
    "        typeE = str(\"TYPE : \" + str(exc_type))\n",
    "        fileE = str(\"FILE : \" + str(fname))\n",
    "        lineE = str(\"LINE : \" + str(exc_tb.tb_lineno))\n",
    "        messageE = str(\"MESG : \" + \"\\n\" + str(errorMessage) + \"\\n\")\n",
    "        print(\"\\n\" + typeE +\n",
    "              \"\\n\" + fileE +\n",
    "              \"\\n\" + lineE +\n",
    "              \"\\n\" + messageE)\n",
    "    #}\n",
    "    else: #{\n",
    "        logging.info(\"END\")\n",
    "    #}\n",
    "#}"
   ]
  },
  {
   "cell_type": "code",
   "execution_count": 32,
   "metadata": {},
   "outputs": [],
   "source": [
    "if __name__ == \"__main__\": #{\n",
    "    main()\n",
    "#}"
   ]
  },
  {
   "cell_type": "code",
   "execution_count": null,
   "metadata": {},
   "outputs": [],
   "source": []
  },
  {
   "cell_type": "code",
   "execution_count": null,
   "metadata": {},
   "outputs": [],
   "source": []
  }
 ],
 "metadata": {
  "kernelspec": {
   "display_name": "Python 3",
   "language": "python",
   "name": "python3"
  },
  "language_info": {
   "codemirror_mode": {
    "name": "ipython",
    "version": 3
   },
   "file_extension": ".py",
   "mimetype": "text/x-python",
   "name": "python",
   "nbconvert_exporter": "python",
   "pygments_lexer": "ipython3",
   "version": "3.7.3"
  }
 },
 "nbformat": 4,
 "nbformat_minor": 2
}
