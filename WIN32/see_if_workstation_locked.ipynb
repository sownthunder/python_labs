{
 "cells": [
  {
   "cell_type": "code",
   "execution_count": 2,
   "metadata": {},
   "outputs": [
    {
     "ename": "AttributeError",
     "evalue": "module 'ctypes' has no attribute 'windll'",
     "output_type": "error",
     "traceback": [
      "\u001b[0;31m---------------------------------------------------------------------------\u001b[0m",
      "\u001b[0;31mAttributeError\u001b[0m                            Traceback (most recent call last)",
      "\u001b[0;32m<ipython-input-2-72fae45f0a6a>\u001b[0m in \u001b[0;36m<module>\u001b[0;34m\u001b[0m\n\u001b[1;32m      2\u001b[0m \u001b[0;32mimport\u001b[0m \u001b[0mctypes\u001b[0m\u001b[0;34m\u001b[0m\u001b[0;34m\u001b[0m\u001b[0m\n\u001b[1;32m      3\u001b[0m \u001b[0;34m\u001b[0m\u001b[0m\n\u001b[0;32m----> 4\u001b[0;31m \u001b[0muser32\u001b[0m \u001b[0;34m=\u001b[0m \u001b[0mctypes\u001b[0m\u001b[0;34m.\u001b[0m\u001b[0mwindll\u001b[0m\u001b[0;34m.\u001b[0m\u001b[0mUser32\u001b[0m\u001b[0;34m\u001b[0m\u001b[0;34m\u001b[0m\u001b[0m\n\u001b[0m\u001b[1;32m      5\u001b[0m \u001b[0mOpenDesktop\u001b[0m \u001b[0;34m=\u001b[0m \u001b[0muser32\u001b[0m\u001b[0;34m.\u001b[0m\u001b[0mOpenDesktopA\u001b[0m\u001b[0;34m\u001b[0m\u001b[0;34m\u001b[0m\u001b[0m\n\u001b[1;32m      6\u001b[0m \u001b[0mSwitchDesktop\u001b[0m \u001b[0;34m=\u001b[0m \u001b[0muser32\u001b[0m\u001b[0;34m.\u001b[0m\u001b[0mSwitchDesktop\u001b[0m\u001b[0;34m\u001b[0m\u001b[0;34m\u001b[0m\u001b[0m\n",
      "\u001b[0;31mAttributeError\u001b[0m: module 'ctypes' has no attribute 'windll'"
     ]
    }
   ],
   "source": [
    "import time\n",
    "import ctypes\n",
    "\n",
    "user32 = ctypes.windll.User32\n",
    "OpenDesktop = user32.OpenDesktopA\n",
    "SwitchDesktop = user32.SwitchDesktop\n",
    "DESKTOP_SWITCHDESKTOP = 0x0100\n",
    "\n",
    "user32.LockWorkStation ()\n",
    "#\n",
    "# Slight pause to overcome what appears to\n",
    "# be a grace period during which a switch\n",
    "# *will* succeed.\n",
    "#\n",
    "time.sleep (1.0)\n",
    "\n",
    "while 1: #{\n",
    "    hDesktop = OpenDesktop (\"default\", 0, False, DESKTOP_SWITCHDESKTOP)\n",
    "    result = SwitchDesktop (hDesktop)\n",
    "    if result: #{\n",
    "        print(\"Unlocked\")\n",
    "        break\n",
    "    #}\n",
    "    else: #{\n",
    "        print(time.asctime (), \"still locked\")\n",
    "        time.sleep (2)\n",
    "    #}\n",
    "#}"
   ]
  },
  {
   "cell_type": "code",
   "execution_count": null,
   "metadata": {},
   "outputs": [],
   "source": []
  }
 ],
 "metadata": {
  "kernelspec": {
   "display_name": "Python 3",
   "language": "python",
   "name": "python3"
  },
  "language_info": {
   "codemirror_mode": {
    "name": "ipython",
    "version": 3
   },
   "file_extension": ".py",
   "mimetype": "text/x-python",
   "name": "python",
   "nbconvert_exporter": "python",
   "pygments_lexer": "ipython3",
   "version": "3.7.3"
  }
 },
 "nbformat": 4,
 "nbformat_minor": 2
}
