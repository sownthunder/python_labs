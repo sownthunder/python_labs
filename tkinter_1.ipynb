{
 "cells": [
  {
   "cell_type": "code",
   "execution_count": 1,
   "metadata": {},
   "outputs": [],
   "source": [
    "import tkinter as tk\n",
    "from tkinter import ttk\n",
    "from tkinter import filedialog\n",
    "from tkinter import messagebox"
   ]
  },
  {
   "cell_type": "code",
   "execution_count": 4,
   "metadata": {},
   "outputs": [],
   "source": [
    "root = tk.Tk()\n",
    "root.title('test')\n",
    "root.geometry('400x400+100+100')\n",
    "\n",
    "# paned window\n",
    "topframe = tk.PanedWindow(master=root)\n",
    "topframe.pack(expand=2, fill=tk.BOTH, side=tk.TOP)\n",
    "\n",
    "l1 = tk.Label(master=topframe, )\n",
    "\n",
    "\n",
    "# bottomframe\n",
    "bottomframe = tk.PanedWindow(master=root)\n",
    "bottomframe.pack(expand=2, fill=tk.BOTH, side=tk.BOTTOM)\n",
    "\n",
    "root.config()\n",
    "root.mainloop()"
   ]
  },
  {
   "cell_type": "code",
   "execution_count": null,
   "metadata": {},
   "outputs": [],
   "source": []
  }
 ],
 "metadata": {
  "kernelspec": {
   "display_name": "Python 3",
   "language": "python",
   "name": "python3"
  },
  "language_info": {
   "codemirror_mode": {
    "name": "ipython",
    "version": 3
   },
   "file_extension": ".py",
   "mimetype": "text/x-python",
   "name": "python",
   "nbconvert_exporter": "python",
   "pygments_lexer": "ipython3",
   "version": "3.7.3"
  }
 },
 "nbformat": 4,
 "nbformat_minor": 4
}
