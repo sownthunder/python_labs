{
 "cells": [
  {
   "cell_type": "code",
   "execution_count": 1,
   "metadata": {},
   "outputs": [],
   "source": [
    "import os, sys, time\n",
    "from time import sleep\n",
    "from watchdog.observers import Observer\n",
    "from watchdog.events import FileSystemEventHandler\n",
    "from watchdog.events import FileSystemEvent\n",
    "from watchdog.events import LoggingEventHandler\n",
    "from watchdog.events import LoggingFileSystemEventHandler\n",
    "from watchdog.events import FileCreatedEvent"
   ]
  },
  {
   "cell_type": "markdown",
   "metadata": {},
   "source": [
    "### class watchdog.events.FileSystemEvent\n",
    "### (event_type, src_path, is_directory=False)"
   ]
  },
  {
   "cell_type": "code",
   "execution_count": 2,
   "metadata": {},
   "outputs": [],
   "source": [
    "class CofACreatedEvent(FileCreatedEvent): #{\n",
    "    \n",
    "    def __init__(self, src_path): #{\n",
    "        self.src_path = src_path\n",
    "        \n",
    "        print(src_path)\n",
    "        \n",
    "    #}\n",
    "#}"
   ]
  },
  {
   "cell_type": "code",
   "execution_count": 3,
   "metadata": {},
   "outputs": [],
   "source": [
    "class CustomCofAEvent(FileSystemEvent): #{\n",
    "    \n",
    "    def __init__(self, evemt_type, src_path, is_directory): #{\n",
    "        self.event_type = event_type\n",
    "        self.src_path = src_path\n",
    "        self.is_directory = is_directory\n",
    "        \n",
    "        print(event_type)\n",
    "        print(src_path)\n",
    "        print(is_directory)\n",
    "        \n",
    "    #}\n",
    "    \n",
    "#}"
   ]
  },
  {
   "cell_type": "code",
   "execution_count": 5,
   "metadata": {},
   "outputs": [],
   "source": [
    "class CofANodeHandler(FileSystemEventHandler): #{\n",
    "\n",
    "   def __init__(self, path, file_name, callback): #{\n",
    "       self.file_name = file_name\n",
    "       self.callback = callback\n",
    "\n",
    "       # set observer to watch for change in the directory\n",
    "       self.observer = Observer()\n",
    "       self.observer.schedule(self, path, recursive=True)\n",
    "       self.observer.start()\n",
    "       self.observer.join()\n",
    "   #}\n",
    "\n",
    "   def on_created(self, CustomCofAEvent): #{ # WAS: self, event\n",
    "       # only act on the change that we're looking for\n",
    "       if not CustomCofAEvent.is_directory and CustomCofAEvent.src_path.endswith(self.file_name): #{\n",
    "            self.observer.stop() # stop watching\n",
    "            self.callback() # call callback\n",
    "            print(file_name)\n",
    "       #}\n",
    "#}"
   ]
  },
  {
   "cell_type": "code",
   "execution_count": 6,
   "metadata": {},
   "outputs": [
    {
     "data": {
      "text/plain": [
       "'\\nclass CustomHandler(LoggingFileSystemEventHandler): #{\\n\\n   def __init__(self):\\n'"
      ]
     },
     "execution_count": 6,
     "metadata": {},
     "output_type": "execute_result"
    }
   ],
   "source": [
    "\"\"\"\n",
    "class CustomHandler(LoggingFileSystemEventHandler): #{\n",
    "\n",
    "   def __init__(self):\n",
    "\"\"\""
   ]
  },
  {
   "cell_type": "code",
   "execution_count": 7,
   "metadata": {},
   "outputs": [
    {
     "data": {
      "text/plain": [
       "\"\\nCREATE instance of FileHandler. The specified file is opened and used as the stream for logging.\\nIf *MODE* is not specified, 'a' is used. if *ENCODING* is not *NONE*, it is used to open the\\nfile with that encoding. If *DELAY* is true, then file opening is deferred until the first call to\\n>>>>>>>>>>>>>>>>>>>> emit().\\nBy default, the file grows indefinitely.\\n\""
      ]
     },
     "execution_count": 7,
     "metadata": {},
     "output_type": "execute_result"
    }
   ],
   "source": [
    "\"\"\"\n",
    "CREATE instance of FileHandler. The specified file is opened and used as the stream for logging.\n",
    "If *MODE* is not specified, 'a' is used. if *ENCODING* is not *NONE*, it is used to open the\n",
    "file with that encoding. If *DELAY* is true, then file opening is deferred until the first call to\n",
    ">>>>>>>>>>>>>>>>>>>> emit().\n",
    "By default, the file grows indefinitely.\n",
    "\"\"\""
   ]
  },
  {
   "cell_type": "code",
   "execution_count": 8,
   "metadata": {},
   "outputs": [],
   "source": [
    "def move_file(): #{\n",
    "   print('POOPIE')\n",
    "#}"
   ]
  },
  {
   "cell_type": "code",
   "execution_count": 9,
   "metadata": {},
   "outputs": [],
   "source": [
    "def main(): #{\n",
    "   event_handler = CofANodeHandler(\".\", \"hey.pdf\", move_file())\n",
    "#}"
   ]
  },
  {
   "cell_type": "code",
   "execution_count": null,
   "metadata": {},
   "outputs": [
    {
     "name": "stdout",
     "output_type": "stream",
     "text": [
      "POOPIE\n"
     ]
    }
   ],
   "source": [
    "if __name__ == \"__main__\": #{\n",
    "   main()\n",
    "#}"
   ]
  },
  {
   "cell_type": "code",
   "execution_count": null,
   "metadata": {},
   "outputs": [],
   "source": []
  }
 ],
 "metadata": {
  "kernelspec": {
   "display_name": "Python 3",
   "language": "python",
   "name": "python3"
  },
  "language_info": {
   "codemirror_mode": {
    "name": "ipython",
    "version": 3
   },
   "file_extension": ".py",
   "mimetype": "text/x-python",
   "name": "python",
   "nbconvert_exporter": "python",
   "pygments_lexer": "ipython3",
   "version": "3.7.3"
  }
 },
 "nbformat": 4,
 "nbformat_minor": 2
}
