{
 "cells": [
  {
   "cell_type": "code",
   "execution_count": 13,
   "metadata": {},
   "outputs": [],
   "source": [
    "import os, sys, time\n",
    "from time import sleep\n",
    "from pathlib import Path\n",
    "from datetime import datetime"
   ]
  },
  {
   "cell_type": "code",
   "execution_count": 24,
   "metadata": {},
   "outputs": [],
   "source": [
    "import feedparser\n",
    "import logging\n",
    "import requests"
   ]
  },
  {
   "cell_type": "code",
   "execution_count": 15,
   "metadata": {},
   "outputs": [],
   "source": [
    "from selenium import webdriver\n",
    "from selenium.webdriver.common.by import By\n",
    "from selenium.webdriver.support.ui import WebDriverWait\n",
    "from selenium.webdriver.support import expected_conditions as EC"
   ]
  },
  {
   "cell_type": "code",
   "execution_count": null,
   "metadata": {},
   "outputs": [],
   "source": [
    "from selenium.webdriver.common.keys import Keys\n",
    "from selenium.webdriver.common.action_chains import ActionChains"
   ]
  },
  {
   "cell_type": "code",
   "execution_count": 15,
   "metadata": {},
   "outputs": [],
   "source": [
    "from selenium.common.exceptions import ElementNotInteractableException\n",
    "from selenium.common.exceptions import ElementNotSelectableException\n",
    "from selenium.common.exceptions import ElementNotVisibleException\n",
    "from selenium.common.exceptions import NoSuchElementException\n",
    "from selenium.common.exceptions import InvalidSwitchToTargetException\n",
    "from selenium.common.exceptions import NoAlertPresentException"
   ]
  },
  {
   "cell_type": "code",
   "execution_count": 16,
   "metadata": {},
   "outputs": [
    {
     "name": "stdout",
     "output_type": "stream",
     "text": [
      "[SETUP-LOGGER] FIN...\n"
     ]
    }
   ],
   "source": [
    "try: #{\n",
    "    logging.basicConfig(level=logging.INFO,\n",
    "                       stream=sys.stdout,\n",
    "                       format='%(asctime)s : %(message)s \\t LINE_NO:%(lineno)s',\n",
    "                       datefmt='%Y-%m-%d-%H%M%S')\n",
    "#}\n",
    "except: #{\n",
    "    errorMessage = str(sys.exc_info()[0]) + \"n\\t\\t\"\n",
    "    errorMessage = errorMessage + str(sys.exc_info()[1]) + \"\\n\\t\\t\"\n",
    "    errorMessage = errorMessage + str(sys.exc_info()[2]) + \"\\n\"\n",
    "    exc_type, exc_obj, exc_tb = sys.exc_info()\n",
    "    fname = os.path.split(exc_tb.tb_frame.f_code.co_filename)[1]\n",
    "    typeE = str(\"TYPE : \" + str(exc_type))\n",
    "    fileE = str(\"FILE : \" + str(fname))\n",
    "    lineE = str(\"LINE : \" + str(exc_tb.tb_lineno))\n",
    "    messageE = str(\"MESG : \" + \"\\n\" + str(errorMessage) + \"\\n\")\n",
    "    error_output = str(\"\\n\" + typeE + \"\\n\" + fileE + \"\\n\" + lineE + \"\\n\" + messageE)\n",
    "    print(error_output)\n",
    "#}\n",
    "else: #{\n",
    "    print(\"[SETUP-LOGGER] FIN...\")\n",
    "#}"
   ]
  },
  {
   "cell_type": "code",
   "execution_count": 26,
   "metadata": {},
   "outputs": [],
   "source": [
    "def NewsFromBBC(): #{\n",
    "    # BBC News api\n",
    "    main_url = \"https://newsapi.org/v1/articles?source=bbc-news&sortBy=top&apiKey=4dbc17e007ab436fb66416009dfb59a8\"\n",
    "    # fetching data in json format\n",
    "    open_bbc_page = requests.get(main_url).json()\n",
    "    # getting all articles in a string article\n",
    "    article = open_bbc_page[\"articles\"]\n",
    "    \n",
    "    # empty list which will\n",
    "    # contain all trending news\n",
    "    results = []\n",
    "    \n",
    "    for ar in article: #{\n",
    "        results.append(ar[\"title\"])\n",
    "    #}\n",
    "    \n",
    "    for i in range(len(results)): #{\n",
    "        # printing all trending news\n",
    "        print(i + 1, results[i])\n",
    "    #}\n",
    "#}"
   ]
  },
  {
   "cell_type": "code",
   "execution_count": 27,
   "metadata": {},
   "outputs": [
    {
     "name": "stdout",
     "output_type": "stream",
     "text": [
      "1 Trump threatens tariffs against 'foolish' Macron\n",
      "2 Syria attacks kill 103 civilians in 10 days\n",
      "3 Hong Kong protesters hold sit-in at airport\n",
      "4 Huge swathes of the Arctic are ablaze - here's why\n",
      "5 Kidnapped triathlete 'talked her way to freedom'\n",
      "6 Newlywed wife rescues husband after volcano fall\n",
      "7 Fortnite players battle for biggest e-sports prize\n",
      "8 British hacker spared jail in US over malware\n",
      "9 Canadian teen fugitives 'may be hiding in woods'\n",
      "10 Americans held in Rome over killing of policeman\n"
     ]
    }
   ],
   "source": [
    "NewsFromBBC()"
   ]
  },
  {
   "cell_type": "raw",
   "metadata": {},
   "source": [
    "#driver = webdriver.Chrome('/path/to/chromedriver')  # Optional argument, if not specified will search path.\n",
    "driver = webdriver.Chrome()\n",
    "driver.get('http://www.google.com/xhtml');\n",
    "    sleep(5) # Let the user actually see something!\n",
    "    search_box = driver.find_element_by_name('q')\n",
    "    search_box.send_keys('ChromeDriver')\n",
    "    search_box.submit()\n",
    "    sleep(5) # Let the user actually see something!\n",
    "    driver.quit()\n"
   ]
  },
  {
   "cell_type": "code",
   "execution_count": 21,
   "metadata": {},
   "outputs": [
    {
     "name": "stdout",
     "output_type": "stream",
     "text": [
      "['CDwindow-6C288D9043E93D73A25872793AE6AF12']\n",
      "2019-07-25-161650 : \n",
      "TYPE : <class 'TypeError'>\n",
      "FILE : <ipython-input-21-9e3eb87afd19>\n",
      "LINE : 11\n",
      "MESG : \n",
      "<class 'TypeError'>n\t\tswitch_to_alert() takes 1 positional argument but 2 were given\n",
      "\t\t<traceback object at 0x000000F9E0BFAE08>\n",
      "\n",
      " \t LINE_NO:34\n"
     ]
    }
   ],
   "source": [
    "# ATTEMPT THE FOLLOWING:\n",
    "try: #{\n",
    "    driver = webdriver.Chrome()\n",
    "    driver.get('http://www.reddit.com/u/zambooxal');\n",
    "    print(driver.window_handles)\n",
    "    #Alert(driver).dismiss()\n",
    "    sleep(5) # Let the user actually see something!\n",
    "    sign_up = driver.find_element_by_link_text(\"sign up\")\n",
    "    sign_up.click()\n",
    "    # POPUP_DIALOG\n",
    "    alert = driver.switch_to_alert()\n",
    "    # accept the alert? \n",
    "    alert(driver).accept()\n",
    "    more_options_box = driver.find_element_by_name(\"More Options\")\n",
    "    more_options_box.click()\n",
    "    #search_box = driver.find_element_by_name('q')\n",
    "    #search_box.send_keys('ChromeDriver')\n",
    "    #search_box.submit()\n",
    "    sleep(5) # Let the user actually see something!\n",
    "    driver.quit()\n",
    "    \n",
    "#}\n",
    "except: #{\n",
    "    errorMessage = str(sys.exc_info()[0]) + \"n\\t\\t\"\n",
    "    errorMessage = errorMessage + str(sys.exc_info()[1]) + \"\\n\\t\\t\"\n",
    "    errorMessage = errorMessage + str(sys.exc_info()[2]) + \"\\n\"\n",
    "    exc_type, exc_obj, exc_tb = sys.exc_info()\n",
    "    fname = os.path.split(exc_tb.tb_frame.f_code.co_filename)[1]\n",
    "    typeE = str(\"TYPE : \" + str(exc_type))\n",
    "    fileE = str(\"FILE : \" + str(fname))\n",
    "    lineE = str(\"LINE : \" + str(exc_tb.tb_lineno))\n",
    "    messageE = str(\"MESG : \" + \"\\n\" + str(errorMessage) + \"\\n\")\n",
    "    logging.error(\"\\n\" + typeE + \n",
    "          \"\\n\" + fileE + \n",
    "          \"\\n\" + lineE + \n",
    "          \"\\n\" + messageE)\n",
    "#}\n",
    "else: #{\n",
    "    logging.info(\"[selenium] FIN...\")\n",
    "#}"
   ]
  },
  {
   "cell_type": "code",
   "execution_count": null,
   "metadata": {},
   "outputs": [],
   "source": []
  }
 ],
 "metadata": {
  "kernelspec": {
   "display_name": "Python 3",
   "language": "python",
   "name": "python3"
  },
  "language_info": {
   "codemirror_mode": {
    "name": "ipython",
    "version": 3
   },
   "file_extension": ".py",
   "mimetype": "text/x-python",
   "name": "python",
   "nbconvert_exporter": "python",
   "pygments_lexer": "ipython3",
   "version": "3.7.3"
  }
 },
 "nbformat": 4,
 "nbformat_minor": 4
}
